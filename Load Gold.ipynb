{
 "cells": [
  {
   "cell_type": "code",
   "execution_count": 0,
   "metadata": {
    "application/vnd.databricks.v1+cell": {
     "cellMetadata": {
      "byteLimit": 2048000,
      "implicitDf": true,
      "rowLimit": 10000
     },
     "inputWidgets": {},
     "nuid": "a7e3b257-5de8-401a-8666-6656c48d5922",
     "showTitle": false,
     "tableResultSettingsMap": {},
     "title": ""
    }
   },
   "outputs": [
    {
     "output_type": "display_data",
     "data": {
      "text/html": [
       "<style scoped>\n",
       "  .table-result-container {\n",
       "    max-height: 300px;\n",
       "    overflow: auto;\n",
       "  }\n",
       "  table, th, td {\n",
       "    border: 1px solid black;\n",
       "    border-collapse: collapse;\n",
       "  }\n",
       "  th, td {\n",
       "    padding: 5px;\n",
       "  }\n",
       "  th {\n",
       "    text-align: left;\n",
       "  }\n",
       "</style><div class='table-result-container'><table class='table-result'><thead style='background-color: white'><tr></tr></thead><tbody></tbody></table></div>"
      ]
     },
     "metadata": {
      "application/vnd.databricks.v1+output": {
       "addedWidgets": {},
       "aggData": [],
       "aggError": "",
       "aggOverflow": false,
       "aggSchema": [],
       "aggSeriesLimitReached": false,
       "aggType": "",
       "arguments": {},
       "columnCustomDisplayInfos": {},
       "data": [],
       "datasetInfos": [],
       "dbfsResultPath": null,
       "isJsonSchema": true,
       "metadata": {
        "dataframeName": null
       },
       "overflow": false,
       "plotOptions": {
        "customPlotOptions": {},
        "displayType": "table",
        "pivotAggregation": null,
        "pivotColumns": null,
        "xColumns": null,
        "yColumns": null
       },
       "removedWidgets": [],
       "schema": [],
       "type": "table"
      }
     },
     "output_type": "display_data"
    }
   ],
   "source": [
    "%sql\n",
    "Drop schema if exists etl.gold cascade;\n",
    "create schema etl.gold"
   ]
  },
  {
   "cell_type": "code",
   "execution_count": 0,
   "metadata": {
    "application/vnd.databricks.v1+cell": {
     "cellMetadata": {
      "byteLimit": 2048000,
      "rowLimit": 10000
     },
     "inputWidgets": {},
     "nuid": "49c6ecb0-edb9-4459-9f78-825f844706d1",
     "showTitle": false,
     "tableResultSettingsMap": {},
     "title": ""
    }
   },
   "outputs": [],
   "source": [
    "from pyspark.sql import Window\n",
    "from pyspark.sql.functions import row_number, when, col\n",
    "\n",
    "spark.sql(\"DROP TABLE IF EXISTS etl.gold.dim_customers\") \n",
    "\n",
    "df_crm_cust_info = (spark.read.table(\"etl.silver.crm_cust_info\"))\n",
    "df_erp_cust_az12 = (spark.read.table(\"etl.silver.erp_cust_az12\"))\n",
    "df_erp_loc_a101 = (spark.read.table(\"etl.silver.erp_loc_a101\"))\n",
    "\n",
    "df = (df_crm_cust_info\n",
    "      .join(df_erp_cust_az12, df_crm_cust_info.cst_key == df_erp_cust_az12.cid, \"left\")\n",
    "    )\n",
    "\n",
    "df = (df\n",
    "      .join(df_erp_loc_a101, df_crm_cust_info.cst_key == df_erp_loc_a101.cid, \"left\")\n",
    "    )\n",
    "\n",
    "df = (df\n",
    "      .withColumn(\"customer_key\", row_number().over(Window.orderBy(\"cst_id\")))\n",
    "      .withColumnRenamed(\"cst_id\", \"customer_id\")\n",
    "      .withColumnRenamed(\"cst_key\", \"customer_number\")\n",
    "      .withColumnRenamed(\"cst_firstname\", \"first_name\")\n",
    "      .withColumnRenamed(\"cst_lastname\", \"last_name\")\n",
    "      .withColumnRenamed(\"cntry\", \"country\")\n",
    "      .withColumnRenamed(\"cst_marital_status\", \"marital_status\")\n",
    "      .withColumnRenamed(\"bdate\", \"birthdate\")\n",
    "      .withColumnRenamed(\"cst_create_date\", \"create_date\")\n",
    "      .withColumn(\"gender\",\n",
    "                  when(col(\"cst_gndr\") != \"n/a\", col(\"cst_gndr\"))\n",
    "                  .otherwise(col(\"gen\")))\n",
    "      .select(\"customer_key\", \"customer_id\", \"customer_number\", \"first_name\", \"last_name\", \"country\", \"marital_status\", \"gender\", \"birthdate\", \"create_date\")\n",
    "      )\n",
    "\n",
    "df.write.mode(\"overwrite\").format(\"delta\").saveAsTable(\"etl.gold.dim_customers\")"
   ]
  },
  {
   "cell_type": "code",
   "execution_count": 0,
   "metadata": {
    "application/vnd.databricks.v1+cell": {
     "cellMetadata": {
      "byteLimit": 2048000,
      "rowLimit": 10000
     },
     "inputWidgets": {},
     "nuid": "74a1eff6-63ba-4e1d-bfa0-e40f6843caa8",
     "showTitle": false,
     "tableResultSettingsMap": {},
     "title": ""
    }
   },
   "outputs": [],
   "source": [
    "from pyspark.sql.functions import filter\n",
    "\n",
    "spark.sql(\"DROP TABLE IF EXISTS etl.gold.dim_products\") \n",
    "\n",
    "df_crm_prd_info = (spark.read.table(\"etl.silver.crm_prd_info\"))\n",
    "df_erp_px_cat_g1v2 = (spark.read.table(\"etl.silver.erp_px_cat_g1v2\"))\n",
    "\n",
    "df = (df_crm_prd_info\n",
    "      .join(df_erp_px_cat_g1v2, df_crm_prd_info.cat_id == df_erp_px_cat_g1v2.id, \"left\")\n",
    "    )\n",
    "\n",
    "df = (df\n",
    "      .withColumn(\"product_key\", row_number().over(Window.orderBy(\"prd_start_dt\",\"prd_key\")))\n",
    "      .withColumnRenamed(\"prd_id\", \"product_id\")\n",
    "      .withColumnRenamed(\"prd_key\", \"product_number\")\n",
    "      .withColumnRenamed(\"prd_nm\", \"product_name\")\n",
    "      .withColumnRenamed(\"cat_id\", \"category_id\")\n",
    "      .withColumnRenamed(\"cat\", \"category\")\n",
    "      .withColumnRenamed(\"subcat\", \"subcategory\")\n",
    "      .withColumnRenamed(\"maintenance\", \"maintenance\")\n",
    "      .withColumnRenamed(\"prd_cost\", \"cost\")\n",
    "      .withColumnRenamed(\"prd_line\", \"product_line\")\n",
    "      .withColumnRenamed(\"prd_start_dt\", \"start_date\")\n",
    "      .filter(col(\"prd_end_dt\").isNull())\n",
    "      .select(\"product_key\", \"product_id\", \"product_number\", \"product_name\", \"category_id\", \"category\", \"subcategory\", \"maintenance\",\"cost\", \"product_line\", \"start_date\")\n",
    "    )\n",
    "\n",
    "df.write.mode(\"overwrite\").format(\"delta\").saveAsTable(\"etl.gold.dim_products\")"
   ]
  },
  {
   "cell_type": "code",
   "execution_count": 0,
   "metadata": {
    "application/vnd.databricks.v1+cell": {
     "cellMetadata": {
      "byteLimit": 2048000,
      "rowLimit": 10000
     },
     "inputWidgets": {},
     "nuid": "4418ddf1-2b01-492d-a7e3-78fc25ec97c1",
     "showTitle": false,
     "tableResultSettingsMap": {},
     "title": ""
    }
   },
   "outputs": [],
   "source": [
    "spark.sql(\"DROP TABLE IF EXISTS etl.gold.fact_sales\")\n",
    "\n",
    "df_crm_sales_details = (spark.read.table(\"etl.silver.crm_sales_details\"))\n",
    "df_dim_products = (spark.read.table(\"etl.gold.dim_products\"))\n",
    "df_dim_customers = (spark.read.table(\"etl.gold.dim_customers\"))\n",
    "\n",
    "df = (df_crm_sales_details\n",
    "      .join(df_dim_products, df_crm_sales_details.sls_prd_key == df_dim_products.product_number, \"left\")\n",
    "    )\n",
    "\n",
    "df = (df\n",
    "      .join(df_dim_customers, df_crm_sales_details.sls_cust_id == df_dim_customers.customer_id, \"left\")\n",
    "    )\n",
    "\n",
    "df = (df\n",
    "     .withColumnRenamed(\"sls_ord_num\",\"order_number\")\n",
    "     .withColumnRenamed(\"product_key\",\"product_key\")\n",
    "     .withColumnRenamed(\"customer_key\",\"customer_key\")\n",
    "     .withColumnRenamed(\"sls_order_dt\",\"order_date\")\n",
    "     .withColumnRenamed(\"sls_ship_dt\",\"shipping_date\")\n",
    "     .withColumnRenamed(\"sls_due_dt\",\"due_date\")\n",
    "     .withColumnRenamed(\"sls_sales\",\"sales_amount\")\n",
    "     .withColumnRenamed(\"sls_quantity\",\"quantity\")\n",
    "     .withColumnRenamed(\"sls_price\",\"price\")\n",
    "     .select(\"order_number\", \"product_key\", \"customer_key\", \"order_date\", \"shipping_date\", \"due_date\", \"sales_amount\", \"quantity\", \"price\")\n",
    "    )\n",
    "\n",
    "df.write.mode(\"overwrite\").format(\"delta\").saveAsTable(\"etl.gold.fact_sales\")"
   ]
  }
 ],
 "metadata": {
  "application/vnd.databricks.v1+notebook": {
   "computePreferences": null,
   "dashboards": [],
   "environmentMetadata": {
    "base_environment": "",
    "environment_version": "2"
   },
   "inputWidgetPreferences": null,
   "language": "python",
   "notebookMetadata": {
    "mostRecentlyExecutedCommandWithImplicitDF": {
     "commandId": 4667238672247664,
     "dataframes": [
      "_sqldf"
     ]
    },
    "pythonIndentUnit": 4
   },
   "notebookName": "Load Gold",
   "widgets": {}
  },
  "language_info": {
   "name": "python"
  }
 },
 "nbformat": 4,
 "nbformat_minor": 0
}